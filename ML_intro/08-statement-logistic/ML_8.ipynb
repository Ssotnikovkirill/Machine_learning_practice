{
  "nbformat": 4,
  "nbformat_minor": 0,
  "metadata": {
    "colab": {
      "provenance": [],
      "toc_visible": true
    },
    "kernelspec": {
      "name": "python3",
      "display_name": "Python 3"
    },
    "language_info": {
      "name": "python"
    }
  },
  "cells": [
    {
      "cell_type": "markdown",
      "source": [
        "# Предварительные дейсвтия"
      ],
      "metadata": {
        "id": "mt3F6yqiwiG4"
      }
    },
    {
      "cell_type": "code",
      "execution_count": 1,
      "metadata": {
        "id": "Lgb8yTiawgKn"
      },
      "outputs": [],
      "source": [
        "from sklearn.metrics import roc_auc_score\n",
        "import numpy as np\n",
        "import pandas as pn\n",
        "import matplotlib.pyplot as plt"
      ]
    },
    {
      "cell_type": "markdown",
      "source": [
        "# 1. Загрузите данные из файла data-logistic.csv. Это двумерная выборка, целевая переменная на которой принимает значения -1 или 1."
      ],
      "metadata": {
        "id": "e0m00yZCw2yk"
      }
    },
    {
      "cell_type": "code",
      "source": [
        "data = pn.read_csv('data-logistic.csv', header=None)\n",
        "features = data.iloc[:, 1:]\n",
        "target = data.iloc[:, 0]"
      ],
      "metadata": {
        "id": "ORr7_goqw_YU"
      },
      "execution_count": 2,
      "outputs": []
    },
    {
      "cell_type": "markdown",
      "source": [
        "# 2. Убедитесь, что выше выписаны правильные формулы для градентного спуска.\n",
        "Обратите внимание, что мы используем полноценный градиентный спуск, а не его стохастический вариант."
      ],
      "metadata": {
        "id": "e3TN8eJuxCuH"
      }
    },
    {
      "cell_type": "code",
      "source": [
        "def W1(features, target, k, C, w1: np.float128, w2: np.float128):\n",
        "  S = 0\n",
        "  l = len(target)\n",
        "  for i in range(l):\n",
        "    S += target[i] * features.loc[i, 1] * (1 - 1 / (1 + np.exp(-target[i] * (w1 * features.loc[i, 1] + w2 * features.loc[i, 2]))))\n",
        "  return w1 + k * S / l - k * C * w1\n",
        "\n",
        "def W2(features, target, k, C, w1, w2):\n",
        "  S = 0\n",
        "  l = len(target)\n",
        "  for i in range(l):\n",
        "    S += target[i] * features.loc[i, 2] * (1 - 1 / (1 + np.exp(-target[i] * (w1 * features.loc[i, 1] + w2 * features.loc[i, 2]))))\n",
        "  return w2 + k * S / l - k * C * w2\n"
      ],
      "metadata": {
        "id": "79bTJyXkxLYT"
      },
      "execution_count": 3,
      "outputs": []
    },
    {
      "cell_type": "markdown",
      "source": [
        "# 3. 3. Реализуйте градиентный спуск для обычной и L2-регуляризованной(с коэффициентом регуляризации 10) логистической регрессии.\n",
        "Используйте длину шага k=0.1. В качестве начального приближения используйте вектор (0, 0)."
      ],
      "metadata": {
        "id": "xufC7In6xTkf"
      }
    },
    {
      "cell_type": "code",
      "source": [
        "def Gradient(features, target, k, w1: np.float128, w2: np.float128, C, flag):\n",
        "  eps = 1e-5\n",
        "  max_iter = 1e+4\n",
        "  msg = 0\n",
        "\n",
        "  iter = 0\n",
        "  while iter < max_iter:\n",
        "    iter += 1\n",
        "    w1_next = W1(features, target, k, C, w1, w2)\n",
        "    w2_next = W2(features, target, k, C, w1, w2)\n",
        "\n",
        "    distance = np.sqrt((w1 - w1_next) ** 2 + (w2 - w2_next) ** 2)\n",
        "\n",
        "    if distance <= eps:\n",
        "      msg = 1\n",
        "      break\n",
        "\n",
        "    w1 = w1_next\n",
        "    w2 = w2_next\n",
        "\n",
        "  if flag:\n",
        "    return iter, msg\n",
        "\n",
        "  return w1, w2"
      ],
      "metadata": {
        "id": "cix49F6Dxad8"
      },
      "execution_count": 4,
      "outputs": []
    },
    {
      "cell_type": "markdown",
      "source": [
        "# 4. Запустите градиентный спуск и доведите до сходимости (евклидово расстояние между векторами весов на соседних итерациях должно быть не больше 1e-5).\n",
        "Рекомендуется ограничить сверху число итераций десятью тысячами."
      ],
      "metadata": {
        "id": "rFdQir-0xfUD"
      }
    },
    {
      "cell_type": "code",
      "source": [
        "k = 0.1\n",
        "w10 = w20 = 0\n",
        "\n",
        "w1, w2 = Gradient(features, target, k, w10, w20, C=0, flag=False)\n",
        "w1_l, w2_l = Gradient(features, target, k, w10, w20, C=10, flag=False)"
      ],
      "metadata": {
        "id": "lXuO1y3AxpCt"
      },
      "execution_count": 5,
      "outputs": []
    },
    {
      "cell_type": "markdown",
      "source": [
        "# 5. Какое значение принимает AUC-ROC на обучении без регуляризации и при её использовании? Эти величины будут ответом на задание.\n",
        "В качестве ответа приведите два числа через пробел."
      ],
      "metadata": {
        "id": "klDxXWVQzpbx"
      }
    },
    {
      "cell_type": "code",
      "source": [
        "a = lambda x, w1, w2: 1 / (1 + np.exp(-w1 * x.loc[:, 1] - w2 * x.loc[:, 2]))\n",
        "\n",
        "y_test = a(features, w1, w2)\n",
        "y_test_l = a(features, w1_l, w2_l)\n",
        "\n",
        "print(round(roc_auc_score(target, y_test), 3), round(roc_auc_score(target, y_test_l), 3))"
      ],
      "metadata": {
        "colab": {
          "base_uri": "https://localhost:8080/"
        },
        "id": "Hrx2DFCo0piq",
        "outputId": "50f4f3c6-13af-4673-e0da-af3612495157"
      },
      "execution_count": 6,
      "outputs": [
        {
          "output_type": "stream",
          "name": "stdout",
          "text": [
            "0.927 0.936\n"
          ]
        }
      ]
    },
    {
      "cell_type": "markdown",
      "source": [
        "# 6. Попробуйте поменять длину шага. Будет ли сходиться алгоритм, если делать более длинные шаги? Как меняется число итераций при уменьшении длины шага?"
      ],
      "metadata": {
        "id": "Ye7yD7c600S-"
      }
    },
    {
      "cell_type": "code",
      "source": [
        "x = []\n",
        "y = []\n",
        "w10 = w20 = 0\n",
        "\n",
        "n = 17\n",
        "S = 0\n",
        "for i in range(n):\n",
        "  iter, msg = Gradient(features, target, i*0.01, w10, w20, C=10, flag=True)\n",
        "  x.append(i * 0.01)\n",
        "  y.append(iter)\n",
        "  S += msg\n",
        "\n",
        "print(f\"Статистика сходимости:{S}/{n}\")\n",
        "plt.scatter(x[10], y[10])\n",
        "plt.plot(x, y)\n",
        "plt.xlabel(\"Длина шага\")\n",
        "plt.ylabel(\"Количество итераций\")\n",
        "plt.ylim(0, 200)\n",
        "plt.xlim(0, 0.3)\n",
        "plt.show()"
      ],
      "metadata": {
        "colab": {
          "base_uri": "https://localhost:8080/",
          "height": 472
        },
        "id": "svbDp_xa1P8O",
        "outputId": "d0386696-838a-4874-c4af-c4e5bf256cbd"
      },
      "execution_count": 7,
      "outputs": [
        {
          "output_type": "stream",
          "name": "stdout",
          "text": [
            "Статистика сходимости:16/17\n"
          ]
        },
        {
          "output_type": "display_data",
          "data": {
            "text/plain": [
              "<Figure size 640x480 with 1 Axes>"
            ],
            "image/png": "[encoded data removed]"
          },
          "metadata": {}
        }
      ]
    },
    {
      "cell_type": "markdown",
      "source": [
        "# 7. Попробуйте менять начальное приближение. Влияет ли оно на что-нибудь?"
      ],
      "metadata": {
        "id": "xJBy6RRV11O3"
      }
    },
    {
      "cell_type": "code",
      "source": [
        "x = []\n",
        "y = []\n",
        "\n",
        "n = 10\n",
        "S = 0\n",
        "k = 0.1\n",
        "for i in np.linspace(-5, 5, n):\n",
        "  iter, msg = Gradient(features, target, k, i, i, C=10, flag=True)\n",
        "  x.append(i)\n",
        "  y.append(iter)\n",
        "  S += msg\n",
        "\n",
        "print(f\"Статистика сходимости:{S}/{n}\")\n",
        "plt.plot(x, y)\n",
        "plt.xlabel(\"Начальный вектор\")\n",
        "plt.ylabel(\"Количество итераций\")\n",
        "plt.show()"
      ],
      "metadata": {
        "id": "4RehwzQb131D",
        "outputId": "046f2c56-a099-4c65-9722-2eea5af277b8",
        "colab": {
          "base_uri": "https://localhost:8080/",
          "height": 466
        }
      },
      "execution_count": 8,
      "outputs": [
        {
          "output_type": "stream",
          "name": "stdout",
          "text": [
            "Статистика сходимости:10/10\n"
          ]
        },
        {
          "output_type": "display_data",
          "data": {
            "text/plain": [
              "<Figure size 640x480 with 1 Axes>"
            ],
            "image/png": "[encoded data removed]"
          },
          "metadata": {}
        }
      ]
    }
  ]
}