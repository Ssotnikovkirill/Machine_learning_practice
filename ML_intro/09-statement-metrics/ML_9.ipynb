{
  "nbformat": 4,
  "nbformat_minor": 0,
  "metadata": {
    "colab": {
      "provenance": [],
      "toc_visible": true
    },
    "kernelspec": {
      "name": "python3",
      "display_name": "Python 3"
    },
    "language_info": {
      "name": "python"
    }
  },
  "cells": [
    {
      "cell_type": "markdown",
      "source": [
        "# Предварительные действия"
      ],
      "metadata": {
        "id": "7c6KIMzu4dzQ"
      }
    },
    {
      "cell_type": "code",
      "execution_count": 1,
      "metadata": {
        "id": "eMiGTFet3VHJ"
      },
      "outputs": [],
      "source": [
        "import pandas as pd\n",
        "from sklearn.metrics import confusion_matrix, accuracy_score, precision_score, recall_score, f1_score\n"
      ]
    },
    {
      "cell_type": "markdown",
      "source": [
        "# 1. Загрузка данных\n",
        "Загрузите файл classification.csv. В нем записаны истинные классы\n",
        "объектов выборки (колонка true) и ответы некоторого классифика-\n",
        "тора (колонка predicted)."
      ],
      "metadata": {
        "id": "0W3Z4kr54luz"
      }
    },
    {
      "cell_type": "code",
      "source": [
        "df = pd.read_csv(\"classification.csv\")  # путь может быть локальным\n",
        "df = df.rename(columns={\"pred\": \"predicted\"})  # переименуем для удобства\n",
        "\n",
        "# Истинные и предсказанные классы\n",
        "y_true = df[\"true\"]\n",
        "y_pred = df[\"predicted\"]"
      ],
      "metadata": {
        "id": "gzgqC8vU4tjk"
      },
      "execution_count": 2,
      "outputs": []
    },
    {
      "cell_type": "markdown",
      "source": [
        "# 2. Подсчёт TP, FP, FN, TN\n",
        "Для этого подсчитайте величины TP, FP, FN и TN согласно их\n",
        "определениям. Например, FP - это количество объектов, имеющих\n",
        "класс 0, но отнесенных алгоритмом к классу 1. Ответ в данном\n",
        "вопросе - четыре числа через пробел."
      ],
      "metadata": {
        "id": "YmE8E5RS4xF3"
      }
    },
    {
      "cell_type": "code",
      "source": [
        "# confusion_matrix возвращает матрицу в виде [[TN, FP], [FN, TP]]\n",
        "tn, fp, fn, tp = confusion_matrix(y_true, y_pred).ravel()\n",
        "\n",
        "print(f\"TP = {tp}, FP = {fp}, FN = {fn}, TN = {tn}\")\n",
        "print(tp, fp, fn, tn)"
      ],
      "metadata": {
        "colab": {
          "base_uri": "https://localhost:8080/"
        },
        "id": "6LHLQXrE465x",
        "outputId": "9cab9b7d-0461-4da3-c0dc-0549f001c9a9"
      },
      "execution_count": 4,
      "outputs": [
        {
          "output_type": "stream",
          "name": "stdout",
          "text": [
            "TP = 43, FP = 34, FN = 59, TN = 64\n",
            "43 34 59 64\n"
          ]
        }
      ]
    },
    {
      "cell_type": "markdown",
      "source": [
        "# 3. Метрики классификации\n",
        "Посчитайте основные метрики качества классификатора:\n",
        "•Accuracy (доля верно угаданных) - sklearn.metrics.accuracy\n",
        "•Precision (точность) - sklearn.metrics.accuracy.precision_score\n",
        "•Recall (полнота) - sklearn.metrics.recall_score\n",
        "•F-мера - sklearn.metrics.f1_score"
      ],
      "metadata": {
        "id": "lOyI_jbQ5MgC"
      }
    },
    {
      "cell_type": "code",
      "source": [
        "accuracy = accuracy_score(y_true, y_pred)\n",
        "precision = precision_score(y_true, y_pred)\n",
        "recall = recall_score(y_true, y_pred)\n",
        "f1 = f1_score(y_true, y_pred)\n",
        "\n",
        "print(f\"Accuracy  = {accuracy:.3f}\")\n",
        "print(f\"Precision = {precision:.3f}\")\n",
        "print(f\"Recall    = {recall:.3f}\")\n",
        "print(f\"F1-score  = {f1:.3f}\")"
      ],
      "metadata": {
        "colab": {
          "base_uri": "https://localhost:8080/"
        },
        "id": "QE2OAbP75cPG",
        "outputId": "2b80708d-0eac-4376-addf-89fd16de4801"
      },
      "execution_count": 5,
      "outputs": [
        {
          "output_type": "stream",
          "name": "stdout",
          "text": [
            "Accuracy  = 0.535\n",
            "Precision = 0.558\n",
            "Recall    = 0.422\n",
            "F1-score  = 0.480\n"
          ]
        }
      ]
    },
    {
      "cell_type": "markdown",
      "source": [
        "# 4. Загрузка файла с оценками.\n",
        "Имеется четыре обученных классификатора. В файле scores.csv за-\n",
        "писаны истинные классы и значения степени принадлежности по-\n",
        "ложительному классу для каждого классификатора на некоторой\n",
        "выборке:\n",
        "•для логистической регрессии - вероятность положительного\n",
        "класса (колонка score_logreg),\n",
        "•для SVM - отступ от разделяющей поверхности (колонка score_svm),\n",
        "•для метрического алгоритма - взвешенная сумма классов со-\n",
        "седей (колонка score_knn),\n",
        "•для решающего дерева - доля положительных объектов в ли-\n",
        "сте (колонка score_tree)."
      ],
      "metadata": {
        "id": "Rj6LBtco5lOV"
      }
    },
    {
      "cell_type": "code",
      "source": [
        "from sklearn.metrics import roc_auc_score"
      ],
      "metadata": {
        "id": "oFyeUO7_5rBb"
      },
      "execution_count": 6,
      "outputs": []
    },
    {
      "cell_type": "code",
      "source": [
        "scores = pd.read_csv(\"scores.csv\")\n",
        "y_true_scores = scores[\"true\"]"
      ],
      "metadata": {
        "id": "XkEsr9OX5ujv"
      },
      "execution_count": 8,
      "outputs": []
    },
    {
      "cell_type": "markdown",
      "source": [
        "# 5. AUC-ROC для каждого классификатора.\n",
        "Посчитайте площадь под ROC-кривой для каждого классифика-\n",
        "тора. Какой классификатор имеет наибольшее значение метрики\n",
        "AUC-ROC (укажите название столбца с ответами этого классифи-\n",
        "катора)? Воспользуйтесь функцией sklearn.metrics.roc_auc_score."
      ],
      "metadata": {
        "id": "tvFt9Yih6HZ1"
      }
    },
    {
      "cell_type": "code",
      "source": [
        "classifiers = ['score_logreg', 'score_svm', 'score_knn', 'score_tree']\n",
        "auc_scores = {}\n",
        "\n",
        "for clf in classifiers:\n",
        "    auc = roc_auc_score(y_true_scores, scores[clf])\n",
        "    auc_scores[clf] = auc\n",
        "    print(f\"AUC-ROC for {clf}: {auc:.3f}\")\n",
        "\n",
        "# Определение лучшего классификатора по AUC-ROC\n",
        "best_auc_clf = max(auc_scores, key=auc_scores.get)\n",
        "print(f\"\\nЛучший классификатор по AUC-ROC: {best_auc_clf} со значением {auc_scores[best_auc_clf]:.3f}\")"
      ],
      "metadata": {
        "colab": {
          "base_uri": "https://localhost:8080/"
        },
        "id": "5kMPRA2h6Ti_",
        "outputId": "f3bbf078-66a2-4b79-ec4d-0a77353a5a60"
      },
      "execution_count": 10,
      "outputs": [
        {
          "output_type": "stream",
          "name": "stdout",
          "text": [
            "AUC-ROC for score_logreg: 0.719\n",
            "AUC-ROC for score_svm: 0.709\n",
            "AUC-ROC for score_knn: 0.635\n",
            "AUC-ROC for score_tree: 0.692\n",
            "\n",
            "Лучший классификатор по AUC-ROC: score_logreg со значением 0.719\n"
          ]
        }
      ]
    },
    {
      "cell_type": "markdown",
      "source": [
        "# 6. Поиск максимальной точности при recall >= 0.7\n",
        "Какой классификатор достигает наибольшей точности (Precision)\n",
        "при полноте (Recall) не менее 70% (укажите название столбца с от-\n",
        "ветами этого классификатора)? Какое значение точности при этом\n",
        "получается?"
      ],
      "metadata": {
        "id": "yb12TruY6dqp"
      }
    },
    {
      "cell_type": "code",
      "source": [
        "from sklearn.metrics import precision_recall_curve"
      ],
      "metadata": {
        "id": "i7cZwFbj6hko"
      },
      "execution_count": 11,
      "outputs": []
    },
    {
      "cell_type": "code",
      "source": [
        "best_precisions = {}\n",
        "\n",
        "for clf in classifiers:\n",
        "    probs = scores[clf]\n",
        "    precision, recall, thresholds = precision_recall_curve(y_true_scores, probs)\n",
        "\n",
        "    # Оставляем только значения, где recall >= 0.7\n",
        "    filtered_precisions = precision[recall >= 0.7]\n",
        "\n",
        "    # Если такие значения есть, находим максимум\n",
        "    max_precision = max(filtered_precisions) if len(filtered_precisions) > 0 else 0\n",
        "    best_precisions[clf] = max_precision\n",
        "\n",
        "    print(f\"Максимальная точность для {clf} при recall >= 0.7: {max_precision:.2f}\")\n",
        "\n",
        "# Определение лучшего классификатора по precision при recall >= 0.7\n",
        "best_precision_clf = max(best_precisions, key=best_precisions.get)\n",
        "print(f\"\\nЛучший классификатор по Precision при Recall >= 0.7: {best_precision_clf}\")\n",
        "print(f\"Значение Precision: {best_precisions[best_precision_clf]:.2f}\")"
      ],
      "metadata": {
        "colab": {
          "base_uri": "https://localhost:8080/"
        },
        "id": "MFXCaYOL6nsW",
        "outputId": "92c6ce88-bada-4c0f-ebae-710c20dba98e"
      },
      "execution_count": 12,
      "outputs": [
        {
          "output_type": "stream",
          "name": "stdout",
          "text": [
            "Максимальная точность для score_logreg при recall >= 0.7: 0.63\n",
            "Максимальная точность для score_svm при recall >= 0.7: 0.62\n",
            "Максимальная точность для score_knn при recall >= 0.7: 0.61\n",
            "Максимальная точность для score_tree при recall >= 0.7: 0.65\n",
            "\n",
            "Лучший классификатор по Precision при Recall >= 0.7: score_tree\n",
            "Значение Precision: 0.65\n"
          ]
        }
      ]
    }
  ]
}