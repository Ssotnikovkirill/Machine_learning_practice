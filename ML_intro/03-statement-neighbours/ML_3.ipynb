{
  "nbformat": 4,
  "nbformat_minor": 0,
  "metadata": {
    "colab": {
      "provenance": [],
      "toc_visible": true
    },
    "kernelspec": {
      "name": "python3",
      "display_name": "Python 3"
    },
    "language_info": {
      "name": "python"
    }
  },
  "cells": [
    {
      "cell_type": "markdown",
      "source": [
        "# Предварительные действия"
      ],
      "metadata": {
        "id": "DeCPCE-lhw3x"
      }
    },
    {
      "cell_type": "code",
      "source": [
        "pip install scikit-learn pandas\n"
      ],
      "metadata": {
        "colab": {
          "base_uri": "https://localhost:8080/"
        },
        "id": "6adn31oNi7rv",
        "outputId": "fd00d4a8-14c6-429d-c809-5f69038f3a4a"
      },
      "execution_count": 2,
      "outputs": [
        {
          "output_type": "stream",
          "name": "stdout",
          "text": [
            "Requirement already satisfied: scikit-learn in /usr/local/lib/python3.11/dist-packages (1.6.1)\n",
            "Requirement already satisfied: pandas in /usr/local/lib/python3.11/dist-packages (2.2.2)\n",
            "Requirement already satisfied: numpy>=1.19.5 in /usr/local/lib/python3.11/dist-packages (from scikit-learn) (2.0.2)\n",
            "Requirement already satisfied: scipy>=1.6.0 in /usr/local/lib/python3.11/dist-packages (from scikit-learn) (1.15.3)\n",
            "Requirement already satisfied: joblib>=1.2.0 in /usr/local/lib/python3.11/dist-packages (from scikit-learn) (1.5.0)\n",
            "Requirement already satisfied: threadpoolctl>=3.1.0 in /usr/local/lib/python3.11/dist-packages (from scikit-learn) (3.6.0)\n",
            "Requirement already satisfied: python-dateutil>=2.8.2 in /usr/local/lib/python3.11/dist-packages (from pandas) (2.9.0.post0)\n",
            "Requirement already satisfied: pytz>=2020.1 in /usr/local/lib/python3.11/dist-packages (from pandas) (2025.2)\n",
            "Requirement already satisfied: tzdata>=2022.7 in /usr/local/lib/python3.11/dist-packages (from pandas) (2025.2)\n",
            "Requirement already satisfied: six>=1.5 in /usr/local/lib/python3.11/dist-packages (from python-dateutil>=2.8.2->pandas) (1.17.0)\n"
          ]
        }
      ]
    },
    {
      "cell_type": "code",
      "execution_count": 3,
      "metadata": {
        "id": "51vx_b-ZfK74"
      },
      "outputs": [],
      "source": [
        "import numpy as np\n",
        "import pandas as pd\n",
        "from sklearn.datasets import load_wine\n",
        "from sklearn.model_selection import KFold, cross_val_score\n",
        "from sklearn.neighbors import KNeighborsClassifier\n",
        "from sklearn.preprocessing import scale\n",
        "import urllib.request"
      ]
    },
    {
      "cell_type": "markdown",
      "source": [
        "# 1. Загрузка данных Wine\n",
        " Загрузите выборку Wine по адресу https://archive.ics.uci.edu/mlmachinelearning-databases/wine/wine.data"
      ],
      "metadata": {
        "id": "NWD2cgrljENS"
      }
    },
    {
      "cell_type": "code",
      "source": [
        "url = \"https://archive.ics.uci.edu/ml/machine-learning-databases/wine/wine.data\"\n",
        "wine_data = pd.read_csv(url, header=None)"
      ],
      "metadata": {
        "id": "4OF6SBFEjL4t"
      },
      "execution_count": 4,
      "outputs": []
    },
    {
      "cell_type": "markdown",
      "source": [
        "# 2. Первый столбец — классы, остальные — признаки\n",
        "Извлеките из данных признаки и классы. Класс записан в первом\n",
        "столбце (три варианта), признаки — в столбцах со второго по последний. Более подробно о сути признаков можно прочитать по адресу https://archive.ics.uci.edu/ml/datasets/Wine (см. также файл\n",
        "wine.names, приложенный к заданию)"
      ],
      "metadata": {
        "id": "KKOaV9KgjPw3"
      }
    },
    {
      "cell_type": "code",
      "source": [
        "y = wine_data[0]\n",
        "X = wine_data.drop(columns=0)"
      ],
      "metadata": {
        "id": "vNUextXvjYMs"
      },
      "execution_count": 5,
      "outputs": []
    },
    {
      "cell_type": "markdown",
      "source": [
        "# 3. Настройка генератора KFold\n",
        "Оценку качества необходимо провести методом кросс-валидации по\n",
        "5 блокам (5-fold). Создайте генератор разбиений, который перемешивает выборку перед формированием блоков (shuffle=True).\n",
        "Для воспроизводимости результата, создавайте генератор KFold с фиксированным параметром random_state=42. В качестве меры качества используйте долю верных ответов (accuracy)."
      ],
      "metadata": {
        "id": "FTr0FI6ijcoA"
      }
    },
    {
      "cell_type": "code",
      "source": [
        "cv = KFold(n_splits=5, shuffle=True, random_state=42)"
      ],
      "metadata": {
        "id": "Xbd0JKxmjo72"
      },
      "execution_count": 6,
      "outputs": []
    },
    {
      "cell_type": "markdown",
      "source": [
        "# 4. Поиск лучшего k (без масштабирования)\n",
        " Найдите точность классификации на кросс-валидации для метода\n",
        "k ближайших соседей (sklearn.neighbors.KNeighborsClassifier), при\n",
        "k от 1 до 50. При каком k получилось оптимальное качество? Чему\n",
        "оно равно (число в интервале от 0 до 1)? Данные результаты и\n",
        "будут ответами на вопросы 1 и 2."
      ],
      "metadata": {
        "id": "x7tY4-dkjsYN"
      }
    },
    {
      "cell_type": "code",
      "source": [
        "best_k = 0\n",
        "best_score = 0\n",
        "\n",
        "for k in range(1, 51):\n",
        "    clf = KNeighborsClassifier(n_neighbors=k)\n",
        "    scores = cross_val_score(clf, X, y, cv=cv)\n",
        "    mean_score = scores.mean()\n",
        "    if mean_score > best_score:\n",
        "        best_score = mean_score\n",
        "        best_k = k\n",
        "\n",
        "# Сохраняем ответы на вопросы 1 и 2\n",
        "with open(\"knn-1.txt\", \"w\") as f:\n",
        "    f.write(str(best_k))  # Вопрос 1: оптимальное k\n",
        "print(best_k)\n",
        "\n",
        "with open(\"knn-2.txt\", \"w\") as f:\n",
        "    f.write(str(round(best_score, 2)))  # Вопрос 2: точность\n",
        "print(round(best_score, 2))"
      ],
      "metadata": {
        "colab": {
          "base_uri": "https://localhost:8080/"
        },
        "id": "hmIpVvNgj2Qn",
        "outputId": "7b72f009-589d-4187-ae05-488ac6da4b7b"
      },
      "execution_count": 13,
      "outputs": [
        {
          "output_type": "stream",
          "name": "stdout",
          "text": [
            "1\n",
            "0.73\n"
          ]
        }
      ]
    },
    {
      "cell_type": "markdown",
      "source": [
        "# 5. Масштабируем признаки\n",
        "Произведите масштабирование признаков с помощью функции\n",
        "sklearn.preprocessing.scale. Снова найдите оптимальное k на кроссвалидации."
      ],
      "metadata": {
        "id": "Jw_MPqXukECG"
      }
    },
    {
      "cell_type": "code",
      "source": [
        "X_scaled = scale(X)\n"
      ],
      "metadata": {
        "id": "ZNZ0Hvb0kLVj"
      },
      "execution_count": 8,
      "outputs": []
    },
    {
      "cell_type": "markdown",
      "source": [
        "# 6. Снова ищем лучшее k после масштабирования\n",
        "Какое значение k получилось оптимальным после приведения признаков к одному масштабу? Как изменилось значение качества?\n",
        "Приведите ответы на вопросы 3 и 4. Если ответом является нецелое число, то целую и дробную часть необходимо разграничивать точкой, например, 0.5. При необходимости округляйте дробную часть до двух знаков."
      ],
      "metadata": {
        "id": "i32nI_KBkOTK"
      }
    },
    {
      "cell_type": "code",
      "source": [
        "best_k_scaled = 0\n",
        "best_score_scaled = 0\n",
        "\n",
        "for k in range(1, 51):\n",
        "    clf = KNeighborsClassifier(n_neighbors=k)\n",
        "    scores = cross_val_score(clf, X_scaled, y, cv=cv)\n",
        "    mean_score = scores.mean()\n",
        "    if mean_score > best_score_scaled:\n",
        "        best_score_scaled = mean_score\n",
        "        best_k_scaled = k\n",
        "\n",
        "\n",
        "\n",
        "# Сохраняем ответы на вопросы 3 и 4\n",
        "with open(\"knn-3.txt\", \"w\") as f:\n",
        "    f.write(str(best_k_scaled))  # Вопрос 3: оптимальное k после масштабирования\n",
        "\n",
        "print(best_k_scaled)\n",
        "\n",
        "with open(\"knn-4.txt\", \"w\") as f:\n",
        "    f.write(str(round(best_score_scaled, 2)))  # Вопрос 4: точность после масштабирования\n",
        "\n",
        "print(round(best_score_scaled, 2))"
      ],
      "metadata": {
        "colab": {
          "base_uri": "https://localhost:8080/"
        },
        "id": "eGDJPHdRkUgG",
        "outputId": "691c5b3f-0e6d-4a06-dd48-fefa4b07f734"
      },
      "execution_count": 11,
      "outputs": [
        {
          "output_type": "stream",
          "name": "stdout",
          "text": [
            "29\n",
            "0.98\n"
          ]
        }
      ]
    }
  ]
}