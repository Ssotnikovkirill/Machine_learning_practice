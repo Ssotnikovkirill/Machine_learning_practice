{
  "nbformat": 4,
  "nbformat_minor": 0,
  "metadata": {
    "colab": {
      "provenance": [],
      "toc_visible": true
    },
    "kernelspec": {
      "name": "python3",
      "display_name": "Python 3"
    },
    "language_info": {
      "name": "python"
    }
  },
  "cells": [
    {
      "cell_type": "markdown",
      "source": [
        "# 1. Загрузите данные из CSV-файлов.\n",
        "агрузите обучающую и тестовую выборки из файлов perceptron-\n",
        "train.csv и perceptron-test.csv. Целевая переменная записана в первом столбце, признаки - во втором и третьем"
      ],
      "metadata": {
        "id": "45b6rbsFt7Ud"
      }
    },
    {
      "cell_type": "code",
      "execution_count": 2,
      "metadata": {
        "id": "m_VtkAfCttNM"
      },
      "outputs": [],
      "source": [
        "import pandas as pd\n",
        "\n",
        "train_data = pd.read_csv(\"perceptron-train.csv\", header=None)\n",
        "test_data = pd.read_csv(\"perceptron-test.csv\", header=None)\n",
        "\n",
        "# Первый столбец — целевая переменная, остальные два — признаки\n",
        "y_train = train_data[0]\n",
        "X_train = train_data[[1, 2]]\n",
        "\n",
        "y_test = test_data[0]\n",
        "X_test = test_data[[1, 2]]\n"
      ]
    },
    {
      "cell_type": "markdown",
      "source": [
        "# 2. Обучите персептрон со стандартными параметрами и random_state=241."
      ],
      "metadata": {
        "id": "2755nXZQuV_u"
      }
    },
    {
      "cell_type": "code",
      "source": [
        "from sklearn.linear_model import Perceptron\n",
        "from sklearn.metrics import accuracy_score\n",
        "\n",
        "# Обучаем модель\n",
        "clf = Perceptron(random_state=241)\n",
        "clf.fit(X_train, y_train)\n",
        "\n",
        "# Предсказываем на тесте\n",
        "y_pred = clf.predict(X_test)\n",
        "\n",
        "# Оцениваем точность\n",
        "accuracy_before = accuracy_score(y_test, y_pred)\n",
        "print(\"Accuracy до нормализации:\", accuracy_before)\n"
      ],
      "metadata": {
        "colab": {
          "base_uri": "https://localhost:8080/"
        },
        "id": "Thx8H_55uajb",
        "outputId": "1d6b77b7-45d6-4592-e0c5-22381b06f2f7"
      },
      "execution_count": 3,
      "outputs": [
        {
          "output_type": "stream",
          "name": "stdout",
          "text": [
            "Accuracy до нормализации: 0.655\n"
          ]
        }
      ]
    },
    {
      "cell_type": "markdown",
      "source": [
        "# 3. Нормализация признаков"
      ],
      "metadata": {
        "id": "Euu_3W58umxp"
      }
    },
    {
      "cell_type": "code",
      "source": [
        "from sklearn.preprocessing import StandardScaler\n",
        "\n",
        "# Стандартизация (fit_transform — на обучении, transform — на тесте)\n",
        "scaler = StandardScaler()\n",
        "X_train_scaled = scaler.fit_transform(X_train)\n",
        "X_test_scaled = scaler.transform(X_test)\n"
      ],
      "metadata": {
        "id": "CGxrWH4Ouq23"
      },
      "execution_count": 4,
      "outputs": []
    },
    {
      "cell_type": "markdown",
      "source": [
        "# 4. Обучим персептрон после нормализации."
      ],
      "metadata": {
        "id": "EgUqK5GCu19C"
      }
    },
    {
      "cell_type": "code",
      "source": [
        "clf_scaled = Perceptron(random_state=241)\n",
        "clf_scaled.fit(X_train_scaled, y_train)\n",
        "\n",
        "y_pred_scaled = clf_scaled.predict(X_test_scaled)\n",
        "\n",
        "# Оцениваем точность\n",
        "accuracy_after = accuracy_score(y_test, y_pred_scaled)\n",
        "print(\"Accuracy после нормализации:\", accuracy_after)\n"
      ],
      "metadata": {
        "colab": {
          "base_uri": "https://localhost:8080/"
        },
        "id": "gTN0TSgru8qt",
        "outputId": "9c2f9ac8-754e-41a5-b7a6-9f01727c2562"
      },
      "execution_count": 5,
      "outputs": [
        {
          "output_type": "stream",
          "name": "stdout",
          "text": [
            "Accuracy после нормализации: 0.725\n"
          ]
        }
      ]
    },
    {
      "cell_type": "markdown",
      "source": [
        "# 5. Разница между accuracies."
      ],
      "metadata": {
        "id": "jNniuEdBvCDu"
      }
    },
    {
      "cell_type": "code",
      "source": [
        "difference = round(accuracy_after - accuracy_before, 3)\n",
        "print(\"Разность:\", difference)\n"
      ],
      "metadata": {
        "colab": {
          "base_uri": "https://localhost:8080/"
        },
        "id": "j2x_1-SkvYYI",
        "outputId": "9aaf7b5e-0be4-40ed-d1d3-8c429809787d"
      },
      "execution_count": 7,
      "outputs": [
        {
          "output_type": "stream",
          "name": "stdout",
          "text": [
            "Разность: 0.07\n"
          ]
        }
      ]
    }
  ]
}