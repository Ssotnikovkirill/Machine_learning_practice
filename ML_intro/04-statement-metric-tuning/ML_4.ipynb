{
  "nbformat": 4,
  "nbformat_minor": 0,
  "metadata": {
    "colab": {
      "provenance": [],
      "toc_visible": true
    },
    "kernelspec": {
      "name": "python3",
      "display_name": "Python 3"
    },
    "language_info": {
      "name": "python"
    }
  },
  "cells": [
    {
      "cell_type": "markdown",
      "source": [
        "# Предварительные действия"
      ],
      "metadata": {
        "id": "ROcEstvAtLiA"
      }
    },
    {
      "cell_type": "code",
      "execution_count": 3,
      "metadata": {
        "id": "C5E-lOA-lwUD"
      },
      "outputs": [],
      "source": [
        "from sklearn.datasets import fetch_openml\n",
        "import numpy as np\n",
        "from sklearn.model_selection import KFold, cross_val_score\n",
        "from sklearn.preprocessing import scale\n",
        "from sklearn.neighbors import KNeighborsRegressor"
      ]
    },
    {
      "cell_type": "markdown",
      "source": [
        "# 1. Загрузите выборку Boston с помощью функции sklearn.datasets.load_boston().\n",
        "Результатом вызова данной функции является объект, у которого\n",
        "признаки записаны в поле data, а целевой вектор — в поле target."
      ],
      "metadata": {
        "id": "UhkOby1ihVFi"
      }
    },
    {
      "cell_type": "code",
      "source": [
        "boston = fetch_openml(\"boston\")\n",
        "X = boston.data\n",
        "y = boston.target"
      ],
      "metadata": {
        "colab": {
          "base_uri": "https://localhost:8080/"
        },
        "id": "hAARKazkhbW0",
        "outputId": "eed929fc-b035-4c25-8d35-ed2098903a0f"
      },
      "execution_count": 5,
      "outputs": [
        {
          "output_type": "stream",
          "name": "stderr",
          "text": [
            "/usr/local/lib/python3.11/dist-packages/sklearn/datasets/_openml.py:323: UserWarning: Multiple active versions of the dataset matching the name boston exist. Versions may be fundamentally different, returning version 1. Available versions:\n",
            "- version 1, status: active\n",
            "  url: https://www.openml.org/search?type=data&id=531\n",
            "- version 2, status: active\n",
            "  url: https://www.openml.org/search?type=data&id=853\n",
            "\n",
            "  warn(warning_msg)\n"
          ]
        }
      ]
    },
    {
      "cell_type": "markdown",
      "source": [
        "# 2. Приведите признаки в выборке к одному масштабу при помощи функции sklearn.preprocessing.scale."
      ],
      "metadata": {
        "id": "M1PV0J50hlua"
      }
    },
    {
      "cell_type": "code",
      "source": [
        "X_scaled = scale(X)\n"
      ],
      "metadata": {
        "id": "XAXKdNvOhsil"
      },
      "execution_count": 6,
      "outputs": []
    },
    {
      "cell_type": "markdown",
      "source": [
        "# 3. Перебираем значения p от 1 до 10\n",
        "Переберите разные варианты параметра метрики p по сетке от 1 до\n",
        "10 с таким шагом, чтобы всего было протестировано 200 вариантов\n",
        "(используйте функцию numpy.linspace). Используйте KNeighborsRegressor\n",
        "с n_neighbors=5 и weights=’distance’ — данный параметр добавляет\n",
        "в алгоритм веса, зависящие от расстояния до ближайших соседей. В\n",
        "качестве метрики качества используйте среднеквадратичную ошибку (параметр scoring=’mean_squared_error’ у cross_val_score; при\n",
        "использовании библиотеки scikit-learn версии 18.0.1 и выше необходимо указывать scoring=’neg_mean_squared_error’). Качество оценивайте, как и в предыдущем задании, с помощью кросс-валидации\n",
        "по 5 блокам с random_state = 42, не забудьте включить перемешивание выборки (shuffle=True)."
      ],
      "metadata": {
        "id": "UNoPg0F8hzqz"
      }
    },
    {
      "cell_type": "code",
      "source": [
        "p_values = np.linspace(1, 10, 200)\n",
        "\n",
        "cv = KFold(n_splits=5, shuffle=True, random_state=42)\n"
      ],
      "metadata": {
        "id": "PNHf1R0Nh7ej"
      },
      "execution_count": 8,
      "outputs": []
    },
    {
      "cell_type": "markdown",
      "source": [
        "# 4. Обучение моделей, вычисление средней ошибки и выбор наилучшей.\n",
        " Определите, при каком p качество на кросс-валидации оказалось\n",
        "оптимальным. Обратите внимание, что cross_val_score возвращает массив показателей качества по блокам; необходимо максимизировать среднее этих показателей. Это значение параметра и будет\n",
        "ответом на задачу."
      ],
      "metadata": {
        "id": "QWLrmXcviCNz"
      }
    },
    {
      "cell_type": "code",
      "source": [
        "from tqdm import tqdm  # Для прогресса (необязательно)\n",
        "\n",
        "best_score = -float('inf')  # Т.к. ошибки отрицательные, ищем максимум\n",
        "best_p = None\n",
        "\n",
        "for p in tqdm(p_values):\n",
        "    model = KNeighborsRegressor(n_neighbors=5, weights='distance', metric='minkowski', p=p)\n",
        "    scores = cross_val_score(model, X_scaled, y, cv=cv, scoring='neg_mean_squared_error')\n",
        "    mean_score = scores.mean()\n",
        "\n",
        "    if mean_score > best_score:\n",
        "        best_score = mean_score\n",
        "        best_p = p\n"
      ],
      "metadata": {
        "colab": {
          "base_uri": "https://localhost:8080/"
        },
        "id": "sG3hesE5iLyE",
        "outputId": "6fbce1ba-d0f6-45d1-d659-4da688bb64ec"
      },
      "execution_count": 9,
      "outputs": [
        {
          "output_type": "stream",
          "name": "stderr",
          "text": [
            "100%|██████████| 200/200 [00:12<00:00, 16.15it/s]\n"
          ]
        }
      ]
    },
    {
      "cell_type": "code",
      "source": [
        "print(round(best_p, 1))\n"
      ],
      "metadata": {
        "colab": {
          "base_uri": "https://localhost:8080/"
        },
        "id": "2JRvxblciXan",
        "outputId": "c6bf588b-00d8-40cf-d6cf-338af63e252c"
      },
      "execution_count": 10,
      "outputs": [
        {
          "output_type": "stream",
          "name": "stdout",
          "text": [
            "1.0\n"
          ]
        }
      ]
    }
  ]
}